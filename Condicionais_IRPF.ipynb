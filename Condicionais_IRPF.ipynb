{
 "cells": [
  {
   "cell_type": "markdown",
   "metadata": {},
   "source": [
    "Considerando as aliquotas e deduções monte um código para culcular o imposto de renda a depender da renda mensal\n",
    "\n",
    "![Alt text](image.png)\n"
   ]
  },
  {
   "cell_type": "code",
   "execution_count": 1,
   "metadata": {},
   "outputs": [
    {
     "name": "stdout",
     "output_type": "stream",
     "text": [
      "Seu Imposto de Renda mensal é: R$ 29.10\n"
     ]
    }
   ],
   "source": [
    "renda_mensal = float(input(\"Digite sua renda mensal em reais:  \"))\n",
    "\n",
    "faixas_de_renda_mensal = [2112.00, 2826.65, 3751.05, 4664.68]\n",
    "aliquotas_mensais = [0.075, 0.15, 0.225, 0.275]\n",
    "deducao_por_faixa = [158.40, 370.40, 651.73, 884.96]\n",
    "\n",
    "imposto_de_renda_mensal = 0\n",
    "\n",
    "if renda_mensal <= faixas_de_renda_mensal[0]:\n",
    "    imposto_de_renda_mensal = 0\n",
    "elif renda_mensal <= faixas_de_renda_mensal[1]:\n",
    "    imposto_de_renda_mensal = renda_mensal * aliquotas_mensais[0] - deducao_por_faixa[0]\n",
    "elif renda_mensal <= faixas_de_renda_mensal[2]:\n",
    "    imposto_de_renda_mensal = renda_mensal * aliquotas_mensais[1] - deducao_por_faixa[1]\n",
    "elif renda_mensal <= faixas_de_renda_mensal[3]:\n",
    "    imposto_de_renda_mensal = renda_mensal * aliquotas_mensais[2] - deducao_por_faixa[2]\n",
    "else:\n",
    "    imposto_de_renda_mensal = renda_mensal * aliquotas_mensais[3] - deducao_por_faixa[3]\n",
    "\n",
    "print(f'Seu Imposto de Renda mensal é: R$ {imposto_de_renda_mensal:.2f}')\n"
   ]
  }
 ],
 "metadata": {
  "kernelspec": {
   "display_name": "Python 3",
   "language": "python",
   "name": "python3"
  },
  "language_info": {
   "codemirror_mode": {
    "name": "ipython",
    "version": 3
   },
   "file_extension": ".py",
   "mimetype": "text/x-python",
   "name": "python",
   "nbconvert_exporter": "python",
   "pygments_lexer": "ipython3",
   "version": "3.11.5"
  },
  "orig_nbformat": 4
 },
 "nbformat": 4,
 "nbformat_minor": 2
}
